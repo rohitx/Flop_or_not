{
 "metadata": {
  "name": "",
  "signature": "sha256:6493c83de914f9d81e3ae290a37b329ae13786d567b0ebc7ef60c62198b1ce2c"
 },
 "nbformat": 3,
 "nbformat_minor": 0,
 "worksheets": [
  {
   "cells": [
    {
     "cell_type": "markdown",
     "metadata": {},
     "source": [
      "# Getting data on Movies #\n",
      "\n",
      "I will scrap the data from MovieWeb.com. The time range I have selected is 1970 - 2015. "
     ]
    },
    {
     "cell_type": "code",
     "collapsed": false,
     "input": [
      "import urllib2\n",
      "from bs4 import BeautifulSoup\n",
      "response = urllib.urlopen(\"http://movieweb.com/movies/2015/\")\n",
      "html_page = response.read()\n",
      "this_page = BeautifulSoup(html_page)\n",
      "print this_page.pretty"
     ],
     "language": "python",
     "metadata": {},
     "outputs": []
    }
   ],
   "metadata": {}
  }
 ]
}